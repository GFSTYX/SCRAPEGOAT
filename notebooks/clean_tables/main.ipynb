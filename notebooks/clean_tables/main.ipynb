{
 "cells": [
  {
   "cell_type": "markdown",
   "metadata": {},
   "source": [
    "# Clean database tables\n",
    "\n",
    "Going to remove any duplicated replay_url's from league_matches and jobs tables."
   ]
  },
  {
   "cell_type": "markdown",
   "metadata": {},
   "source": [
    "## Table of Contents\n",
    "\n",
    "1. [Clean tables](#clean-tables)\n",
    "    - [Imports](#imports)\n",
    "    - [Configurations](#configurations)\n",
    "    - [Query all data from league_matches](#query-all-data-from-league_matches)\n",
    "    - [Find all duplicated replay_urls](#find-all-duplicated-replay_urls)\n",
    "    - [Go through each to find incorrect match data](#go-through-each-to-find-incorrect-match-data)\n",
    "    - [Collect league_matches id's to remove](#collect-league_matches-ids-to-remove)\n",
    "1. [Remove duplicated ids from database](#remove-duplicated-ids-from-database)\n",
    "    - [Imports](#imports-1)\n",
    "    - [Remove ids from league_matches and jobs tables](#remove-ids-from-league_matches-and-jobs-tables)"
   ]
  },
  {
   "cell_type": "markdown",
   "metadata": {},
   "source": [
    "## Clean tables\n",
    "\n",
    "### Imports"
   ]
  },
  {
   "cell_type": "code",
   "execution_count": 1,
   "metadata": {},
   "outputs": [],
   "source": [
    "import polars as pl\n",
    "\n",
    "from gfwldata.utils.db import sync_engine"
   ]
  },
  {
   "cell_type": "markdown",
   "metadata": {},
   "source": [
    "### Configurations"
   ]
  },
  {
   "cell_type": "code",
   "execution_count": null,
   "metadata": {},
   "outputs": [
    {
     "data": {
      "text/plain": [
       "<polars.config.Config at 0x21d4a705040>"
      ]
     },
     "execution_count": 50,
     "metadata": {},
     "output_type": "execute_result"
    }
   ],
   "source": [
    "# Don't cut off column length configuration\n",
    "pl.Config(fmt_str_lengths=100)"
   ]
  },
  {
   "cell_type": "markdown",
   "metadata": {},
   "source": [
    "### Query all data from league_matches"
   ]
  },
  {
   "cell_type": "code",
   "execution_count": 68,
   "metadata": {},
   "outputs": [],
   "source": [
    "raw_tbl = pl.read_database(query=\"select * from league_matches\", connection=sync_engine)"
   ]
  },
  {
   "cell_type": "markdown",
   "metadata": {},
   "source": [
    "### Find all duplicated replay_urls"
   ]
  },
  {
   "cell_type": "code",
   "execution_count": 33,
   "metadata": {},
   "outputs": [
    {
     "name": "stdout",
     "output_type": "stream",
     "text": [
      "shape: (4, 2)\n",
      "┌────────────────────────────────────────────┬─────┐\n",
      "│ replay_url                                 ┆ len │\n",
      "│ ---                                        ┆ --- │\n",
      "│ str                                        ┆ u32 │\n",
      "╞════════════════════════════════════════════╪═════╡\n",
      "│ https://duelingbook.com/replay?id=68321903 ┆ 2   │\n",
      "│ https://duelingbook.com/replay?id=67849343 ┆ 2   │\n",
      "│ https://duelingbook.com/replay?id=67778738 ┆ 2   │\n",
      "│ https://duelingbook.com/replay?id=55940660 ┆ 2   │\n",
      "└────────────────────────────────────────────┴─────┘\n"
     ]
    }
   ],
   "source": [
    "with pl.Config(fmt_str_lengths=100):\n",
    "    replay_url_duplicates = (\n",
    "        raw_tbl.filter(pl.col(\"replay_url\").is_not_null())\n",
    "        .group_by(\"replay_url\")\n",
    "        .len()\n",
    "        .filter(pl.col(\"len\") > 1)\n",
    "    )\n",
    "\n",
    "    print(replay_url_duplicates)"
   ]
  },
  {
   "cell_type": "markdown",
   "metadata": {},
   "source": [
    "### Go through each to find incorrect match data"
   ]
  },
  {
   "cell_type": "code",
   "execution_count": 59,
   "metadata": {},
   "outputs": [
    {
     "data": {
      "text/html": [
       "<div><style>\n",
       ".dataframe > thead > tr,\n",
       ".dataframe > tbody > tr {\n",
       "  text-align: right;\n",
       "  white-space: pre-wrap;\n",
       "}\n",
       "</style>\n",
       "<small>shape: (8, 11)</small><table border=\"1\" class=\"dataframe\"><thead><tr><th>season</th><th>week</th><th>team1</th><th>team2</th><th>team1_player</th><th>team2_player</th><th>team1_player_deck_type</th><th>team2_player_deck_type</th><th>match_score</th><th>replay_url</th><th>id</th></tr><tr><td>i64</td><td>i64</td><td>str</td><td>str</td><td>str</td><td>str</td><td>str</td><td>str</td><td>str</td><td>str</td><td>str</td></tr></thead><tbody><tr><td>4</td><td>3</td><td>&quot;The Worst Generation&quot;</td><td>&quot;Rehab&quot;</td><td>&quot;don&#x27;t copy&quot;</td><td>&quot;insids&quot;</td><td>&quot;Chaos Turbo&quot;</td><td>&quot;Chaos Turbo&quot;</td><td>&quot;2-0&quot;</td><td>&quot;https://duelingbook.com/replay?id=55940660&quot;</td><td>&quot;bfda413aac224bcaabd7a9ecb8fb7d3f&quot;</td></tr><tr><td>4</td><td>3</td><td>&quot;Masters of Oz&quot;</td><td>&quot;Purple Haze&quot;</td><td>&quot;jase&quot;</td><td>&quot;raysaber&quot;</td><td>&quot;Chaos Turbo&quot;</td><td>&quot;Chaos Turbo&quot;</td><td>&quot;1-2&quot;</td><td>&quot;https://duelingbook.com/replay?id=55940660&quot;</td><td>&quot;d6d4c00c5f06465b9d0ce393e8992ca3&quot;</td></tr><tr><td>6</td><td>4</td><td>&quot;team_bomb_squad&quot;</td><td>&quot;team_batl_oxen&quot;</td><td>&quot;The dark knight&quot;</td><td>&quot;psyt&quot;</td><td>&quot;Chaos Turbo&quot;</td><td>&quot;Cyber-Stein OTK&quot;</td><td>&quot;2-1&quot;</td><td>&quot;https://duelingbook.com/replay?id=67778738&quot;</td><td>&quot;63e653b80fee48728ba4c0a8debf5834&quot;</td></tr><tr><td>6</td><td>4</td><td>&quot;team_batl_oxen&quot;</td><td>&quot;team_bomb_squad&quot;</td><td>&quot;psyt&quot;</td><td>&quot;The dark knight&quot;</td><td>&quot;Cyber-Stein OTK&quot;</td><td>&quot;Chaos Turbo&quot;</td><td>&quot;2-0&quot;</td><td>&quot;https://duelingbook.com/replay?id=67778738&quot;</td><td>&quot;e230d51d0a604b21939244d47a4ee3df&quot;</td></tr><tr><td>6</td><td>4</td><td>&quot;team_black_luster_serbs&quot;</td><td>&quot;team_4hunnids&quot;</td><td>&quot;popz&quot;</td><td>&quot;Lukaz&quot;</td><td>&quot;Reasoning Gate Turbo&quot;</td><td>&quot;Chaos Turbo&quot;</td><td>&quot;2-1&quot;</td><td>&quot;https://duelingbook.com/replay?id=67849343&quot;</td><td>&quot;d3054c2c57d048939849a2e85e1c7ad2&quot;</td></tr><tr><td>6</td><td>4</td><td>&quot;team_black_luster_serbs&quot;</td><td>&quot;team_4hunnids&quot;</td><td>&quot;popz&quot;</td><td>&quot;SolMasterMatt&quot;</td><td>&quot;Reasoning Gate Turbo&quot;</td><td>&quot;Chaos Turbo&quot;</td><td>&quot;2-1&quot;</td><td>&quot;https://duelingbook.com/replay?id=67849343&quot;</td><td>&quot;f596b7ca06c0460591b2e9ee2d73e30d&quot;</td></tr><tr><td>6</td><td>6</td><td>&quot;team_the_bones_generation&quot;</td><td>&quot;team_carbombnara&quot;</td><td>&quot;Shifty&quot;</td><td>&quot;CCaliendo&quot;</td><td>&quot;Chaos Turbo&quot;</td><td>&quot;Chaos Control&quot;</td><td>&quot;2-1&quot;</td><td>&quot;https://duelingbook.com/replay?id=68321903&quot;</td><td>&quot;19226427495a400a99792badbb63fe13&quot;</td></tr><tr><td>6</td><td>6</td><td>&quot;team_the_bones_generation&quot;</td><td>&quot;team_carbombnara&quot;</td><td>&quot;Shifty&quot;</td><td>&quot;marcor96&quot;</td><td>&quot;Chaos Turbo&quot;</td><td>&quot;Chaos Control&quot;</td><td>&quot;2-1&quot;</td><td>&quot;https://duelingbook.com/replay?id=68321903&quot;</td><td>&quot;5c25d683cdbd449eaaa9e1ea2e9e155a&quot;</td></tr></tbody></table></div>"
      ],
      "text/plain": [
       "shape: (8, 11)\n",
       "┌────────┬──────┬─────────────┬────────────┬───┬────────────┬────────────┬────────────┬────────────┐\n",
       "│ season ┆ week ┆ team1       ┆ team2      ┆ … ┆ team2_play ┆ match_scor ┆ replay_url ┆ id         │\n",
       "│ ---    ┆ ---  ┆ ---         ┆ ---        ┆   ┆ er_deck_ty ┆ e          ┆ ---        ┆ ---        │\n",
       "│ i64    ┆ i64  ┆ str         ┆ str        ┆   ┆ pe         ┆ ---        ┆ str        ┆ str        │\n",
       "│        ┆      ┆             ┆            ┆   ┆ ---        ┆ str        ┆            ┆            │\n",
       "│        ┆      ┆             ┆            ┆   ┆ str        ┆            ┆            ┆            │\n",
       "╞════════╪══════╪═════════════╪════════════╪═══╪════════════╪════════════╪════════════╪════════════╡\n",
       "│ 4      ┆ 3    ┆ The Worst   ┆ Rehab      ┆ … ┆ Chaos      ┆ 2-0        ┆ https://du ┆ bfda413aac │\n",
       "│        ┆      ┆ Generation  ┆            ┆   ┆ Turbo      ┆            ┆ elingbook. ┆ 224bcaabd7 │\n",
       "│        ┆      ┆             ┆            ┆   ┆            ┆            ┆ com/replay ┆ a9ecb8fb7d │\n",
       "│        ┆      ┆             ┆            ┆   ┆            ┆            ┆ ?id=559406 ┆ 3f         │\n",
       "│        ┆      ┆             ┆            ┆   ┆            ┆            ┆ 60         ┆            │\n",
       "│ 4      ┆ 3    ┆ Masters of  ┆ Purple     ┆ … ┆ Chaos      ┆ 1-2        ┆ https://du ┆ d6d4c00c5f │\n",
       "│        ┆      ┆ Oz          ┆ Haze       ┆   ┆ Turbo      ┆            ┆ elingbook. ┆ 06465b9d0c │\n",
       "│        ┆      ┆             ┆            ┆   ┆            ┆            ┆ com/replay ┆ e393e8992c │\n",
       "│        ┆      ┆             ┆            ┆   ┆            ┆            ┆ ?id=559406 ┆ a3         │\n",
       "│        ┆      ┆             ┆            ┆   ┆            ┆            ┆ 60         ┆            │\n",
       "│ 6      ┆ 4    ┆ team_bomb_s ┆ team_batl_ ┆ … ┆ Cyber-Stei ┆ 2-1        ┆ https://du ┆ 63e653b80f │\n",
       "│        ┆      ┆ quad        ┆ oxen       ┆   ┆ n OTK      ┆            ┆ elingbook. ┆ ee48728ba4 │\n",
       "│        ┆      ┆             ┆            ┆   ┆            ┆            ┆ com/replay ┆ c0a8debf58 │\n",
       "│        ┆      ┆             ┆            ┆   ┆            ┆            ┆ ?id=677787 ┆ 34         │\n",
       "│        ┆      ┆             ┆            ┆   ┆            ┆            ┆ 38         ┆            │\n",
       "│ 6      ┆ 4    ┆ team_batl_o ┆ team_bomb_ ┆ … ┆ Chaos      ┆ 2-0        ┆ https://du ┆ e230d51d0a │\n",
       "│        ┆      ┆ xen         ┆ squad      ┆   ┆ Turbo      ┆            ┆ elingbook. ┆ 604b219392 │\n",
       "│        ┆      ┆             ┆            ┆   ┆            ┆            ┆ com/replay ┆ 44d47a4ee3 │\n",
       "│        ┆      ┆             ┆            ┆   ┆            ┆            ┆ ?id=677787 ┆ df         │\n",
       "│        ┆      ┆             ┆            ┆   ┆            ┆            ┆ 38         ┆            │\n",
       "│ 6      ┆ 4    ┆ team_black_ ┆ team_4hunn ┆ … ┆ Chaos      ┆ 2-1        ┆ https://du ┆ d3054c2c57 │\n",
       "│        ┆      ┆ luster_serb ┆ ids        ┆   ┆ Turbo      ┆            ┆ elingbook. ┆ d048939849 │\n",
       "│        ┆      ┆ s           ┆            ┆   ┆            ┆            ┆ com/replay ┆ a2e85e1c7a │\n",
       "│        ┆      ┆             ┆            ┆   ┆            ┆            ┆ ?id=678493 ┆ d2         │\n",
       "│        ┆      ┆             ┆            ┆   ┆            ┆            ┆ 43         ┆            │\n",
       "│ 6      ┆ 4    ┆ team_black_ ┆ team_4hunn ┆ … ┆ Chaos      ┆ 2-1        ┆ https://du ┆ f596b7ca06 │\n",
       "│        ┆      ┆ luster_serb ┆ ids        ┆   ┆ Turbo      ┆            ┆ elingbook. ┆ c0460591b2 │\n",
       "│        ┆      ┆ s           ┆            ┆   ┆            ┆            ┆ com/replay ┆ e9ee2d73e3 │\n",
       "│        ┆      ┆             ┆            ┆   ┆            ┆            ┆ ?id=678493 ┆ 0d         │\n",
       "│        ┆      ┆             ┆            ┆   ┆            ┆            ┆ 43         ┆            │\n",
       "│ 6      ┆ 6    ┆ team_the_bo ┆ team_carbo ┆ … ┆ Chaos      ┆ 2-1        ┆ https://du ┆ 1922642749 │\n",
       "│        ┆      ┆ nes_generat ┆ mbnara     ┆   ┆ Control    ┆            ┆ elingbook. ┆ 5a400a9979 │\n",
       "│        ┆      ┆ ion         ┆            ┆   ┆            ┆            ┆ com/replay ┆ 2badbb63fe │\n",
       "│        ┆      ┆             ┆            ┆   ┆            ┆            ┆ ?id=683219 ┆ 13         │\n",
       "│        ┆      ┆             ┆            ┆   ┆            ┆            ┆ 03         ┆            │\n",
       "│ 6      ┆ 6    ┆ team_the_bo ┆ team_carbo ┆ … ┆ Chaos      ┆ 2-1        ┆ https://du ┆ 5c25d683cd │\n",
       "│        ┆      ┆ nes_generat ┆ mbnara     ┆   ┆ Control    ┆            ┆ elingbook. ┆ bd449eaaa9 │\n",
       "│        ┆      ┆ ion         ┆            ┆   ┆            ┆            ┆ com/replay ┆ e1ea2e9e15 │\n",
       "│        ┆      ┆             ┆            ┆   ┆            ┆            ┆ ?id=683219 ┆ 5a         │\n",
       "│        ┆      ┆             ┆            ┆   ┆            ┆            ┆ 03         ┆            │\n",
       "└────────┴──────┴─────────────┴────────────┴───┴────────────┴────────────┴────────────┴────────────┘"
      ]
     },
     "execution_count": 59,
     "metadata": {},
     "output_type": "execute_result"
    }
   ],
   "source": [
    "(\n",
    "    raw_tbl.filter(\n",
    "        pl.col(\"replay_url\").is_in(replay_url_duplicates[\"replay_url\"].to_list())\n",
    "    )\n",
    "    .select(pl.exclude([\"replay_id\", \"created_at\", \"updated_at\"]))\n",
    "    .sort([\"replay_url\"])\n",
    ")"
   ]
  },
  {
   "cell_type": "markdown",
   "metadata": {},
   "source": [
    "### Collect league_matches id's to remove"
   ]
  },
  {
   "cell_type": "code",
   "execution_count": 67,
   "metadata": {},
   "outputs": [],
   "source": [
    "incorrect_matches_id = [\n",
    "    \"bfda413aac224bcaabd7a9ecb8fb7d3f\",\n",
    "    \"e230d51d0a604b21939244d47a4ee3df\",\n",
    "    \"d3054c2c57d048939849a2e85e1c7ad2\",\n",
    "    \"19226427495a400a99792badbb63fe13\",\n",
    "]"
   ]
  },
  {
   "cell_type": "markdown",
   "metadata": {},
   "source": [
    "## Remove duplicated ids from database\n",
    "\n",
    "### Imports"
   ]
  },
  {
   "cell_type": "code",
   "execution_count": 73,
   "metadata": {},
   "outputs": [],
   "source": [
    "from uuid import UUID\n",
    "\n",
    "from sqlalchemy import delete\n",
    "\n",
    "from gfwldata.utils.db import get_db_session\n",
    "from gfwldata.utils.models import Job, LeagueMatch"
   ]
  },
  {
   "cell_type": "markdown",
   "metadata": {},
   "source": [
    "### Remove ids from league_matches and jobs tables"
   ]
  },
  {
   "cell_type": "code",
   "execution_count": 81,
   "metadata": {},
   "outputs": [],
   "source": [
    "# Convert string of ids to uuid\n",
    "league_ids_to_delete = [UUID(id) for id in incorrect_matches_id]\n",
    "\n",
    "# Delete duplicated ids from league_matches table\n",
    "with get_db_session() as session:\n",
    "    stmt = delete(LeagueMatch).where(LeagueMatch.id.in_(league_ids_to_delete))\n",
    "    result = session.execute(stmt)\n",
    "\n",
    "    session.commit()\n",
    "\n",
    "# Delete duplicated ids from jobs table\n",
    "with get_db_session() as session:\n",
    "    stmt = delete(Job).where(Job.league_match_id.in_(league_ids_to_delete))\n",
    "    result = session.execute(stmt)\n",
    "\n",
    "    session.commit()"
   ]
  }
 ],
 "metadata": {
  "kernelspec": {
   "display_name": ".venv",
   "language": "python",
   "name": "python3"
  },
  "language_info": {
   "codemirror_mode": {
    "name": "ipython",
    "version": 3
   },
   "file_extension": ".py",
   "mimetype": "text/x-python",
   "name": "python",
   "nbconvert_exporter": "python",
   "pygments_lexer": "ipython3",
   "version": "3.12.4"
  }
 },
 "nbformat": 4,
 "nbformat_minor": 2
}
