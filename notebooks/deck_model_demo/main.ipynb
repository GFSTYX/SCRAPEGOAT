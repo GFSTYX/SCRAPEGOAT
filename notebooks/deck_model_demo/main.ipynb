{
 "cells": [
  {
   "cell_type": "markdown",
   "metadata": {},
   "source": [
    "# Deck Model Demonstration\n",
    "\n",
    "A deep dive into the model's performance on full decks."
   ]
  },
  {
   "cell_type": "markdown",
   "metadata": {},
   "source": [
    "## Table of Contents\n",
    "\n",
    "1. [Setup](#setup)\n",
    "    - [Imports](#imports)\n",
    "    - [Query data](#query-data)\n",
    "2. [Data Transformations](#data-transformations)\n",
    "    - [Expand card_name by card_amount](#expand-card_name-by-card_amount)\n",
    "    - [Filter out deck classes below 5 occurrences](#filter-out-deck-classes-below-5-occurrences)\n",
    "3. [Deck Model Preparation](#deck-model-preparation)\n",
    "    - [Load model, encoder, and vectorizer](#load-model-encoder-and-vectorizer)\n",
    "    - [Create predict_with_confidence function](#create-predict_with_confidence-function)\n",
    "4. [Deck Prediction](#deck-prediction)\n",
    "    - [Predict all deck classes in set](#predict-all-deck-classes-in-set)\n",
    "    - [Filter where the model failed](#filter-where-the-model-failed)\n",
    "5. [Model Demonstrations](#model-demonstrations)\n",
    "    - [Example 1](#example-1)\n",
    "    - [Example 2](#example-2)\n",
    "    - [Example 3](#example-3)\n",
    "    - [Example 4](#example-4)\n",
    "    - [Example 5](#example-5)\n",
    "    - [Example 6](#example-6)\n",
    "    - [Example 7](#example-7)\n",
    "    - [Example 8](#example-8)\n",
    "    - [Example 9](#example-9)\n",
    "6. [Conclusion](#conclusion)\n"
   ]
  },
  {
   "cell_type": "markdown",
   "metadata": {},
   "source": [
    "## Setup\n",
    "\n",
    "### Imports"
   ]
  },
  {
   "cell_type": "code",
   "execution_count": 1,
   "metadata": {},
   "outputs": [],
   "source": [
    "import joblib\n",
    "import polars as pl\n",
    "from plotnine import *\n",
    "\n",
    "from gfwldata.utils.db import sync_engine"
   ]
  },
  {
   "cell_type": "markdown",
   "metadata": {},
   "source": [
    "### Query data"
   ]
  },
  {
   "cell_type": "code",
   "execution_count": 12,
   "metadata": {},
   "outputs": [
    {
     "name": "stdout",
     "output_type": "stream",
     "text": [
      "shape: (2, 4)\n",
      "┌───────────────────────────────────┬─────────────┬──────────────────────────────────┬─────────────┐\n",
      "│ deck_url                          ┆ actual_deck ┆ card_name                        ┆ card_amount │\n",
      "│ ---                               ┆ ---         ┆ ---                              ┆ ---         │\n",
      "│ str                               ┆ str         ┆ str                              ┆ i64         │\n",
      "╞═══════════════════════════════════╪═════════════╪══════════════════════════════════╪═════════════╡\n",
      "│ https://formatlibrary.com/decks/5 ┆ Warrior     ┆ Black Luster Soldier - Envoy of  ┆ 1           │\n",
      "│ 2186                              ┆             ┆ the Beginning                    ┆             │\n",
      "│ https://formatlibrary.com/decks/5 ┆ Warrior     ┆ Blade Knight                     ┆ 3           │\n",
      "│ 2186                              ┆             ┆                                  ┆             │\n",
      "└───────────────────────────────────┴─────────────┴──────────────────────────────────┴─────────────┘\n"
     ]
    }
   ],
   "source": [
    "query = \"\"\"\n",
    "select\n",
    "    replace(url, '/api', '') as deck_url,\n",
    "    deck_class as actual_deck,\n",
    "    card_name,\n",
    "    card_amount\n",
    "from event_decks\n",
    "where published_at > '2006-01-01'\n",
    "    and deck_type == 'main'\n",
    "\"\"\"\n",
    "\n",
    "cards_tbl = pl.read_database(\n",
    "    query=query,\n",
    "    connection=sync_engine\n",
    ")\n",
    "\n",
    "with pl.Config(fmt_str_lengths=100):\n",
    "    print(cards_tbl.head(2))"
   ]
  },
  {
   "cell_type": "markdown",
   "metadata": {},
   "source": [
    "## Data Transformations\n",
    "\n",
    "### Expand card_name by card_amount"
   ]
  },
  {
   "cell_type": "code",
   "execution_count": null,
   "metadata": {},
   "outputs": [
    {
     "name": "stdout",
     "output_type": "stream",
     "text": [
      "shape: (4, 3)\n",
      "┌─────────────────────────────────┬──────────────────┬─────────────────────────────────┐\n",
      "│ deck_url                        ┆ actual_deck      ┆ cards                           │\n",
      "│ ---                             ┆ ---              ┆ ---                             │\n",
      "│ str                             ┆ str              ┆ str                             │\n",
      "╞═════════════════════════════════╪══════════════════╪═════════════════════════════════╡\n",
      "│ https://formatlibrary.com/deck… ┆ Chaos Turbo      ┆ Black Luster Soldier - Envoy o… │\n",
      "│ https://formatlibrary.com/deck… ┆ Chaos Warrior    ┆ Black Luster Soldier - Envoy o… │\n",
      "│ https://formatlibrary.com/deck… ┆ Chaos Control    ┆ Black Luster Soldier - Envoy o… │\n",
      "│ https://formatlibrary.com/deck… ┆ Stein Gate Turbo ┆ Airknight Parshath|Black Luste… │\n",
      "└─────────────────────────────────┴──────────────────┴─────────────────────────────────┘\n"
     ]
    }
   ],
   "source": [
    "prepared_cards_tbl = (\n",
    "    cards_tbl\n",
    "    .select(\n",
    "        pl.exclude(\"card_amount\").repeat_by(\"card_amount\").explode()\n",
    "    )\n",
    "    .group_by(\"deck_url\")\n",
    "    .agg(\n",
    "        actual_deck=pl.col(\"actual_deck\").first(),\n",
    "        cards=pl.col(\"card_name\").map_elements(lambda s: \"|\".join(s), return_dtype=pl.String)\n",
    "    )\n",
    "    .sort(\"deck_url\")\n",
    ")\n",
    "\n",
    "print(prepared_cards_tbl.head(4))"
   ]
  },
  {
   "cell_type": "markdown",
   "metadata": {},
   "source": [
    "### Filter out deck classes below 5 occurrences"
   ]
  },
  {
   "cell_type": "code",
   "execution_count": 79,
   "metadata": {},
   "outputs": [
    {
     "name": "stdout",
     "output_type": "stream",
     "text": [
      "shape: (4, 2)\n",
      "┌────────────────┬─────┐\n",
      "│ actual_deck    ┆ len │\n",
      "│ ---            ┆ --- │\n",
      "│ str            ┆ u32 │\n",
      "╞════════════════╪═════╡\n",
      "│ Mataza Rush    ┆ 5   │\n",
      "│ Tomato Monarch ┆ 5   │\n",
      "│ Gravekeeper    ┆ 5   │\n",
      "│ Economics FTK  ┆ 5   │\n",
      "└────────────────┴─────┘\n"
     ]
    }
   ],
   "source": [
    "prepared_cards_tbl = (\n",
    "    prepared_cards_tbl\n",
    "    .with_columns(\n",
    "        count=pl.col(\"actual_deck\").count().over(\"actual_deck\")\n",
    "    )\n",
    "    .filter(pl.col(\"count\") >= 5)\n",
    "    .drop(\"count\")\n",
    ")\n",
    "\n",
    "print(\n",
    "    prepared_cards_tbl\n",
    "    .group_by(\"actual_deck\")\n",
    "    .len()\n",
    "    .sort(\"len\")\n",
    "    .head(4)\n",
    ")"
   ]
  },
  {
   "cell_type": "markdown",
   "metadata": {},
   "source": [
    "## Deck Model Preparation\n",
    "\n",
    "### Load model, encoder, and vectorizer"
   ]
  },
  {
   "cell_type": "code",
   "execution_count": 34,
   "metadata": {},
   "outputs": [],
   "source": [
    "label_encoder = joblib.load(\"gfwldata/models/deck_classifier/label_encoder.joblib\")\n",
    "tfidf_vectorizer = joblib.load(\"gfwldata/models/deck_classifier/tfidf.joblib\")\n",
    "xgboost_model = joblib.load(\"gfwldata/models/deck_classifier/xgboost_model.joblib\")"
   ]
  },
  {
   "cell_type": "markdown",
   "metadata": {},
   "source": [
    "### Create predict_with_confidence function"
   ]
  },
  {
   "cell_type": "code",
   "execution_count": 37,
   "metadata": {},
   "outputs": [],
   "source": [
    "def predict_with_confidence(new_data: list[str]) -> tuple[str, float]:\n",
    "    \"\"\"Predict classes and confidence probabilities for new_data.\"\"\"\n",
    "    # Transform the input data using the pre-fitted tfidf_vectorizer\n",
    "    transformed_data = tfidf_vectorizer.transform(new_data)\n",
    "    \n",
    "    # Get probability predictions from the model\n",
    "    probabilities = xgboost_model.predict_proba(transformed_data)\n",
    "    \n",
    "    # Extract the class indices with the highest probability and the confidence scores\n",
    "    labels_idx = probabilities.argmax(axis=1)\n",
    "    confidences = probabilities.max(axis=1)\n",
    "    \n",
    "    # Convert processed label indices to original class labels\n",
    "    predicted_classes = label_encoder.inverse_transform(labels_idx)\n",
    "    \n",
    "    return predicted_classes, confidences\n"
   ]
  },
  {
   "cell_type": "markdown",
   "metadata": {},
   "source": [
    "## Deck Prediction\n",
    "\n",
    "### Predict all deck classes in set"
   ]
  },
  {
   "cell_type": "code",
   "execution_count": 84,
   "metadata": {},
   "outputs": [
    {
     "name": "stdout",
     "output_type": "stream",
     "text": [
      "shape: (4, 4)\n",
      "┌───────────────────────────────────────┬───────────────┬────────────────┬────────────┐\n",
      "│ deck_url                              ┆ actual_deck   ┆ predicted_deck ┆ confidence │\n",
      "│ ---                                   ┆ ---           ┆ ---            ┆ ---        │\n",
      "│ str                                   ┆ str           ┆ str            ┆ f32        │\n",
      "╞═══════════════════════════════════════╪═══════════════╪════════════════╪════════════╡\n",
      "│ https://formatlibrary.com/decks/22118 ┆ Gravekeeper   ┆ Gravekeeper    ┆ 0.999801   │\n",
      "│ https://formatlibrary.com/decks/2830  ┆ Cat OTK       ┆ Cat OTK        ┆ 0.999793   │\n",
      "│ https://formatlibrary.com/decks/19781 ┆ Earth Beat    ┆ Earth Beat     ┆ 0.999782   │\n",
      "│ https://formatlibrary.com/decks/19004 ┆ Economics FTK ┆ Economics FTK  ┆ 0.999778   │\n",
      "└───────────────────────────────────────┴───────────────┴────────────────┴────────────┘\n"
     ]
    }
   ],
   "source": [
    "cards_features = prepared_cards_tbl[\"cards\"].to_list()\n",
    "\n",
    "# Get predictions and confidence scores for the \"cards\" column\n",
    "predicted_classes, confidences = predict_with_confidence(cards_features)\n",
    "\n",
    "# Add new columns for predicted class and confidence to the DataFrame\n",
    "model_results = (\n",
    "    prepared_cards_tbl\n",
    "    .with_columns([\n",
    "        pl.Series(\"predicted_deck\", predicted_classes),\n",
    "        pl.Series(\"confidence\", confidences)\n",
    "    ])\n",
    "    .select(\n",
    "        [\"deck_url\", \"actual_deck\", \"predicted_deck\", \"confidence\"]\n",
    "    )\n",
    "    .sort(\"confidence\", descending=True)\n",
    ")\n",
    "\n",
    "with pl.Config(fmt_str_lengths=100):\n",
    "    print(model_results.head(4))"
   ]
  },
  {
   "cell_type": "markdown",
   "metadata": {},
   "source": [
    "### Filter where the model failed"
   ]
  },
  {
   "cell_type": "code",
   "execution_count": null,
   "metadata": {},
   "outputs": [
    {
     "name": "stdout",
     "output_type": "stream",
     "text": [
      "shape: (19, 4)\n",
      "┌───────────────────────────────────────┬───────────────┬─────────────────┬────────────┐\n",
      "│ deck_url                              ┆ actual_deck   ┆ predicted_deck  ┆ confidence │\n",
      "│ ---                                   ┆ ---           ┆ ---             ┆ ---        │\n",
      "│ str                                   ┆ str           ┆ str             ┆ f32        │\n",
      "╞═══════════════════════════════════════╪═══════════════╪═════════════════╪════════════╡\n",
      "│ https://formatlibrary.com/decks/1321  ┆ Panda Burn    ┆ Cat OTK         ┆ 0.999748   │\n",
      "│ https://formatlibrary.com/decks/35138 ┆ Stein Monarch ┆ Mataza Rush     ┆ 0.98774    │\n",
      "│ https://formatlibrary.com/decks/24828 ┆ Flip Control  ┆ Chaos Turbo     ┆ 0.985727   │\n",
      "│ https://formatlibrary.com/decks/2016  ┆ Chaos Control ┆ Chaos Recruiter ┆ 0.971806   │\n",
      "│ https://formatlibrary.com/decks/23671 ┆ Flip Warrior  ┆ Warrior         ┆ 0.96717    │\n",
      "│ …                                     ┆ …             ┆ …               ┆ …          │\n",
      "│ https://formatlibrary.com/decks/20378 ┆ Goat Control  ┆ Flip Control    ┆ 0.851541   │\n",
      "│ https://formatlibrary.com/decks/29228 ┆ Relinquished  ┆ Chaos Turbo     ┆ 0.850724   │\n",
      "│ https://formatlibrary.com/decks/20003 ┆ Chaos Warrior ┆ Chaos Recruiter ┆ 0.826813   │\n",
      "│ https://formatlibrary.com/decks/2027  ┆ Flip Warrior  ┆ Warrior         ┆ 0.446664   │\n",
      "│ https://formatlibrary.com/decks/4489  ┆ Stein Monarch ┆ Earth Beat      ┆ 0.33411    │\n",
      "└───────────────────────────────────────┴───────────────┴─────────────────┴────────────┘\n"
     ]
    }
   ],
   "source": [
    "failed_predictions = (\n",
    "    model_results\n",
    "    .filter(pl.col(\"actual_deck\") != pl.col(\"predicted_deck\"))\n",
    ")\n",
    "\n",
    "with pl.Config(fmt_str_lengths=100):\n",
    "    print(failed_predictions)"
   ]
  },
  {
   "cell_type": "markdown",
   "metadata": {},
   "source": [
    "## Model Demonstrations\n",
    "\n",
    "### Example 1"
   ]
  },
  {
   "cell_type": "code",
   "execution_count": 86,
   "metadata": {},
   "outputs": [
    {
     "name": "stdout",
     "output_type": "stream",
     "text": [
      "shape: (1, 4)\n",
      "┌──────────────────────────────────────┬─────────────┬────────────────┬────────────┐\n",
      "│ deck_url                             ┆ actual_deck ┆ predicted_deck ┆ confidence │\n",
      "│ ---                                  ┆ ---         ┆ ---            ┆ ---        │\n",
      "│ str                                  ┆ str         ┆ str            ┆ f32        │\n",
      "╞══════════════════════════════════════╪═════════════╪════════════════╪════════════╡\n",
      "│ https://formatlibrary.com/decks/1321 ┆ Panda Burn  ┆ Cat OTK        ┆ 0.999748   │\n",
      "└──────────────────────────────────────┴─────────────┴────────────────┴────────────┘\n"
     ]
    }
   ],
   "source": [
    "with pl.Config(fmt_str_lengths=100):\n",
    "    print(failed_predictions[0])"
   ]
  },
  {
   "cell_type": "markdown",
   "metadata": {},
   "source": [
    "Actual deck:\n",
    "\n",
    "![image](./images/example1-1.png)"
   ]
  },
  {
   "cell_type": "markdown",
   "metadata": {},
   "source": [
    "It has cat otk elements, but also panda burn. Let's see if the inclusion of the burn cards had to do with the mislabeling."
   ]
  },
  {
   "cell_type": "code",
   "execution_count": 129,
   "metadata": {},
   "outputs": [
    {
     "name": "stdout",
     "output_type": "stream",
     "text": [
      "shape: (10, 2)\n",
      "┌───────────────────────────────────────┬─────────────┐\n",
      "│ deck_url                              ┆ actual_deck │\n",
      "│ ---                                   ┆ ---         │\n",
      "│ str                                   ┆ str         │\n",
      "╞═══════════════════════════════════════╪═════════════╡\n",
      "│ https://formatlibrary.com/decks/19091 ┆ Cat OTK     │\n",
      "│ https://formatlibrary.com/decks/24814 ┆ Cat OTK     │\n",
      "│ https://formatlibrary.com/decks/25232 ┆ Cat OTK     │\n",
      "│ https://formatlibrary.com/decks/25581 ┆ Cat OTK     │\n",
      "│ https://formatlibrary.com/decks/26648 ┆ Cat OTK     │\n",
      "│ https://formatlibrary.com/decks/3399  ┆ Cat OTK     │\n",
      "│ https://formatlibrary.com/decks/4453  ┆ Cat OTK     │\n",
      "│ https://formatlibrary.com/decks/5945  ┆ Cat OTK     │\n",
      "│ https://formatlibrary.com/decks/6315  ┆ Cat OTK     │\n",
      "│ https://formatlibrary.com/decks/974   ┆ Cat OTK     │\n",
      "└───────────────────────────────────────┴─────────────┘\n"
     ]
    }
   ],
   "source": [
    "with pl.Config(fmt_str_lengths=100):\n",
    "    print(\n",
    "        prepared_cards_tbl\n",
    "        .filter(pl.col(\"actual_deck\") == \"Cat OTK\")\n",
    "        .filter(pl.col(\"cards\").str.contains(\"Trio\") & pl.col(\"cards\").str.contains(\"Secret Barrel\"))\n",
    "        .select(pl.exclude(\"cards\"))\n",
    "    )"
   ]
  },
  {
   "cell_type": "markdown",
   "metadata": {},
   "source": [
    "An actual Cat OTK deck with the same features as the mislabeled Panda Burn deck."
   ]
  },
  {
   "cell_type": "markdown",
   "metadata": {},
   "source": [
    "![image](./images//example1-2.png)"
   ]
  },
  {
   "cell_type": "markdown",
   "metadata": {},
   "source": [
    "### Example 2"
   ]
  },
  {
   "cell_type": "code",
   "execution_count": 88,
   "metadata": {},
   "outputs": [
    {
     "name": "stdout",
     "output_type": "stream",
     "text": [
      "shape: (1, 4)\n",
      "┌───────────────────────────────────────┬───────────────┬────────────────┬────────────┐\n",
      "│ deck_url                              ┆ actual_deck   ┆ predicted_deck ┆ confidence │\n",
      "│ ---                                   ┆ ---           ┆ ---            ┆ ---        │\n",
      "│ str                                   ┆ str           ┆ str            ┆ f32        │\n",
      "╞═══════════════════════════════════════╪═══════════════╪════════════════╪════════════╡\n",
      "│ https://formatlibrary.com/decks/35138 ┆ Stein Monarch ┆ Mataza Rush    ┆ 0.98774    │\n",
      "└───────────────────────────────────────┴───────────────┴────────────────┴────────────┘\n"
     ]
    }
   ],
   "source": [
    "with pl.Config(fmt_str_lengths=100):\n",
    "    print(failed_predictions[1])"
   ]
  },
  {
   "cell_type": "markdown",
   "metadata": {},
   "source": [
    "Actual deck:\n",
    "\n",
    "![image](./images/example2-1.png)"
   ]
  },
  {
   "cell_type": "markdown",
   "metadata": {},
   "source": [
    "Unlike other cases, the training data wasn't mislabeled here. However, because Mataza is such a strong predictor for Mataza Rush, the model incorrectly classified this Stein Monarch deck (which uniquely mains Matazas) as Mataza Rush."
   ]
  },
  {
   "cell_type": "code",
   "execution_count": 100,
   "metadata": {},
   "outputs": [
    {
     "name": "stdout",
     "output_type": "stream",
     "text": [
      "shape: (1, 2)\n",
      "┌───────────────────────────────────────┬───────────────┐\n",
      "│ deck_url                              ┆ actual_deck   │\n",
      "│ ---                                   ┆ ---           │\n",
      "│ str                                   ┆ str           │\n",
      "╞═══════════════════════════════════════╪═══════════════╡\n",
      "│ https://formatlibrary.com/decks/35138 ┆ Stein Monarch │\n",
      "└───────────────────────────────────────┴───────────────┘\n"
     ]
    }
   ],
   "source": [
    "with pl.Config(fmt_str_lengths=100):\n",
    "    print(\n",
    "        prepared_cards_tbl\n",
    "        .filter(pl.col(\"actual_deck\") == \"Stein Monarch\")\n",
    "        .filter(pl.col(\"cards\").str.contains(\"Mataza\"))\n",
    "        .select(pl.exclude(\"cards\"))\n",
    "    )"
   ]
  },
  {
   "cell_type": "markdown",
   "metadata": {},
   "source": [
    "### Example 3"
   ]
  },
  {
   "cell_type": "code",
   "execution_count": 101,
   "metadata": {},
   "outputs": [
    {
     "name": "stdout",
     "output_type": "stream",
     "text": [
      "shape: (1, 4)\n",
      "┌───────────────────────────────────────┬──────────────┬────────────────┬────────────┐\n",
      "│ deck_url                              ┆ actual_deck  ┆ predicted_deck ┆ confidence │\n",
      "│ ---                                   ┆ ---          ┆ ---            ┆ ---        │\n",
      "│ str                                   ┆ str          ┆ str            ┆ f32        │\n",
      "╞═══════════════════════════════════════╪══════════════╪════════════════╪════════════╡\n",
      "│ https://formatlibrary.com/decks/24828 ┆ Flip Control ┆ Chaos Turbo    ┆ 0.985727   │\n",
      "└───────────────────────────────────────┴──────────────┴────────────────┴────────────┘\n"
     ]
    }
   ],
   "source": [
    "with pl.Config(fmt_str_lengths=100):\n",
    "    print(failed_predictions[2])"
   ]
  },
  {
   "cell_type": "markdown",
   "metadata": {},
   "source": [
    "Actual deck:\n",
    "\n",
    "![image](./images/example3-1.png)"
   ]
  },
  {
   "cell_type": "markdown",
   "metadata": {},
   "source": [
    "So, this looks like a Chaos Turbo deck. The main features that can be causing a mislabel is between Mask of Darkness (MoD) + Solemn. There's 26 Chaos Turbo decks that main MoD in our dataset. However, let's see if we can push it to any Chaos Turbo decks with 3 MoDs."
   ]
  },
  {
   "cell_type": "code",
   "execution_count": 104,
   "metadata": {},
   "outputs": [
    {
     "name": "stdout",
     "output_type": "stream",
     "text": [
      "shape: (1, 2)\n",
      "┌───────────────────────────────────────┬─────────────┐\n",
      "│ deck_url                              ┆ actual_deck │\n",
      "│ ---                                   ┆ ---         │\n",
      "│ str                                   ┆ str         │\n",
      "╞═══════════════════════════════════════╪═════════════╡\n",
      "│ https://formatlibrary.com/decks/16993 ┆ Chaos Turbo │\n",
      "└───────────────────────────────────────┴─────────────┘\n"
     ]
    }
   ],
   "source": [
    "with pl.Config(fmt_str_lengths=100):\n",
    "    print(\n",
    "        prepared_cards_tbl\n",
    "        .filter(pl.col(\"actual_deck\") == \"Chaos Turbo\")\n",
    "        .filter(pl.col(\"cards\").str.contains(\"Mask of Darkness|Mask of Darkness|Mask of Darkness\", literal=True))\n",
    "        .select(pl.exclude(\"cards\"))\n",
    "    )"
   ]
  },
  {
   "cell_type": "markdown",
   "metadata": {},
   "source": [
    "An actual Chaos Turbo deck with the same features as the mislabeled Flip Control deck:\n",
    "\n",
    "![image](./images/example3-2.png)"
   ]
  },
  {
   "cell_type": "markdown",
   "metadata": {},
   "source": [
    "### Example 4"
   ]
  },
  {
   "cell_type": "code",
   "execution_count": 105,
   "metadata": {},
   "outputs": [
    {
     "name": "stdout",
     "output_type": "stream",
     "text": [
      "shape: (1, 4)\n",
      "┌──────────────────────────────────────┬───────────────┬─────────────────┬────────────┐\n",
      "│ deck_url                             ┆ actual_deck   ┆ predicted_deck  ┆ confidence │\n",
      "│ ---                                  ┆ ---           ┆ ---             ┆ ---        │\n",
      "│ str                                  ┆ str           ┆ str             ┆ f32        │\n",
      "╞══════════════════════════════════════╪═══════════════╪═════════════════╪════════════╡\n",
      "│ https://formatlibrary.com/decks/2016 ┆ Chaos Control ┆ Chaos Recruiter ┆ 0.971806   │\n",
      "└──────────────────────────────────────┴───────────────┴─────────────────┴────────────┘\n"
     ]
    }
   ],
   "source": [
    "with pl.Config(fmt_str_lengths=100):\n",
    "    print(failed_predictions[3])"
   ]
  },
  {
   "cell_type": "markdown",
   "metadata": {},
   "source": [
    "Actual deck:\n",
    "\n",
    "![image](./images/example4-1.png)"
   ]
  },
  {
   "cell_type": "code",
   "execution_count": 106,
   "metadata": {},
   "outputs": [
    {
     "name": "stdout",
     "output_type": "stream",
     "text": [
      "shape: (1, 2)\n",
      "┌───────────────────────────────────────┬─────────────────┐\n",
      "│ deck_url                              ┆ actual_deck     │\n",
      "│ ---                                   ┆ ---             │\n",
      "│ str                                   ┆ str             │\n",
      "╞═══════════════════════════════════════╪═════════════════╡\n",
      "│ https://formatlibrary.com/decks/24822 ┆ Chaos Recruiter │\n",
      "└───────────────────────────────────────┴─────────────────┘\n"
     ]
    }
   ],
   "source": [
    "with pl.Config(fmt_str_lengths=100):\n",
    "    print(\n",
    "        prepared_cards_tbl\n",
    "        .filter(pl.col(\"actual_deck\") == \"Chaos Recruiter\")\n",
    "        .filter(pl.col(\"cards\").str.contains(\"Scapegoat\"))\n",
    "        .select(pl.exclude(\"cards\"))\n",
    "    )"
   ]
  },
  {
   "cell_type": "markdown",
   "metadata": {},
   "source": [
    "An actual Chaos Recruiter deck with the same features as the mislabeled Chaos Control deck:\n",
    "\n",
    "![image](./images/example4-2.png)"
   ]
  },
  {
   "cell_type": "markdown",
   "metadata": {},
   "source": [
    "### Example 5"
   ]
  },
  {
   "cell_type": "code",
   "execution_count": 107,
   "metadata": {},
   "outputs": [
    {
     "name": "stdout",
     "output_type": "stream",
     "text": [
      "shape: (1, 4)\n",
      "┌───────────────────────────────────────┬──────────────┬────────────────┬────────────┐\n",
      "│ deck_url                              ┆ actual_deck  ┆ predicted_deck ┆ confidence │\n",
      "│ ---                                   ┆ ---          ┆ ---            ┆ ---        │\n",
      "│ str                                   ┆ str          ┆ str            ┆ f32        │\n",
      "╞═══════════════════════════════════════╪══════════════╪════════════════╪════════════╡\n",
      "│ https://formatlibrary.com/decks/23671 ┆ Flip Warrior ┆ Warrior        ┆ 0.96717    │\n",
      "└───────────────────────────────────────┴──────────────┴────────────────┴────────────┘\n"
     ]
    }
   ],
   "source": [
    "with pl.Config(fmt_str_lengths=100):\n",
    "    print(failed_predictions[4])"
   ]
  },
  {
   "cell_type": "markdown",
   "metadata": {},
   "source": [
    "Actual deck:\n",
    "\n",
    "![image](./images/example5-1.png)"
   ]
  },
  {
   "cell_type": "markdown",
   "metadata": {},
   "source": [
    "The 2 standout features are Dekoichi and Magician of Faith (MoF). There's many (7), actual Warrior decks with Dekoichis. Let's see how many have both it and MoF."
   ]
  },
  {
   "cell_type": "code",
   "execution_count": 109,
   "metadata": {},
   "outputs": [
    {
     "name": "stdout",
     "output_type": "stream",
     "text": [
      "shape: (4, 2)\n",
      "┌───────────────────────────────────────┬─────────────┐\n",
      "│ deck_url                              ┆ actual_deck │\n",
      "│ ---                                   ┆ ---         │\n",
      "│ str                                   ┆ str         │\n",
      "╞═══════════════════════════════════════╪═════════════╡\n",
      "│ https://formatlibrary.com/decks/22378 ┆ Warrior     │\n",
      "│ https://formatlibrary.com/decks/24817 ┆ Warrior     │\n",
      "│ https://formatlibrary.com/decks/29626 ┆ Warrior     │\n",
      "│ https://formatlibrary.com/decks/50882 ┆ Warrior     │\n",
      "└───────────────────────────────────────┴─────────────┘\n"
     ]
    }
   ],
   "source": [
    "with pl.Config(fmt_str_lengths=100):\n",
    "    print(\n",
    "        prepared_cards_tbl\n",
    "        .filter(pl.col(\"actual_deck\") == \"Warrior\")\n",
    "        .filter(pl.col(\"cards\").str.contains(\"Dekoichi\") & pl.col(\"cards\").str.contains(\"Magician of Faith\"))\n",
    "        .select(pl.exclude(\"cards\"))\n",
    "    )"
   ]
  },
  {
   "cell_type": "markdown",
   "metadata": {},
   "source": [
    "Actual Warrior deck with mained Dekoichi and MoF:\n",
    "\n",
    "![image](./images/example5-2.png)"
   ]
  },
  {
   "cell_type": "markdown",
   "metadata": {},
   "source": [
    "Almost all mislabels with high confidence are because of a flaw in the training data. That said, let's look at a few more examples if mislabels with low confidence.\n",
    "\n",
    "### Example 6"
   ]
  },
  {
   "cell_type": "code",
   "execution_count": 112,
   "metadata": {},
   "outputs": [
    {
     "name": "stdout",
     "output_type": "stream",
     "text": [
      "shape: (1, 4)\n",
      "┌──────────────────────────────────────┬───────────────┬────────────────┬────────────┐\n",
      "│ deck_url                             ┆ actual_deck   ┆ predicted_deck ┆ confidence │\n",
      "│ ---                                  ┆ ---           ┆ ---            ┆ ---        │\n",
      "│ str                                  ┆ str           ┆ str            ┆ f32        │\n",
      "╞══════════════════════════════════════╪═══════════════╪════════════════╪════════════╡\n",
      "│ https://formatlibrary.com/decks/4489 ┆ Stein Monarch ┆ Earth Beat     ┆ 0.33411    │\n",
      "└──────────────────────────────────────┴───────────────┴────────────────┴────────────┘\n"
     ]
    }
   ],
   "source": [
    "with pl.Config(fmt_str_lengths=100):\n",
    "    print(\n",
    "        failed_predictions\n",
    "        .sort(\"confidence\")\n",
    "        [0]\n",
    "    )"
   ]
  },
  {
   "cell_type": "markdown",
   "metadata": {},
   "source": [
    "Actual deck:\n",
    "\n",
    "![image](./images/example6-1.png)"
   ]
  },
  {
   "cell_type": "code",
   "execution_count": 118,
   "metadata": {},
   "outputs": [
    {
     "name": "stdout",
     "output_type": "stream",
     "text": [
      "shape: (2, 2)\n",
      "┌───────────────────────────────────────┬─────────────┐\n",
      "│ deck_url                              ┆ actual_deck │\n",
      "│ ---                                   ┆ ---         │\n",
      "│ str                                   ┆ str         │\n",
      "╞═══════════════════════════════════════╪═════════════╡\n",
      "│ https://formatlibrary.com/decks/35399 ┆ Earth Beat  │\n",
      "│ https://formatlibrary.com/decks/40433 ┆ Earth Beat  │\n",
      "└───────────────────────────────────────┴─────────────┘\n"
     ]
    }
   ],
   "source": [
    "with pl.Config(fmt_str_lengths=100):\n",
    "    print(\n",
    "        prepared_cards_tbl\n",
    "        .filter(pl.col(\"actual_deck\") == \"Earth Beat\")\n",
    "        .filter(pl.col(\"cards\").str.contains(\"Zaborg\"))\n",
    "        .select(pl.exclude(\"cards\"))\n",
    "    )"
   ]
  },
  {
   "cell_type": "markdown",
   "metadata": {},
   "source": [
    "An actual Earth Beat deck with the same features as the mislabeled Stein Monarch Deck:\n",
    "\n",
    "![image](./images/example6-2.png)"
   ]
  },
  {
   "cell_type": "markdown",
   "metadata": {},
   "source": [
    "### Example 7\n",
    "\n",
    "Skipping the 2nd to the last lowest confidence, because it has the same issues we've already seen with Flip Warriors and Warriors."
   ]
  },
  {
   "cell_type": "code",
   "execution_count": 120,
   "metadata": {},
   "outputs": [
    {
     "name": "stdout",
     "output_type": "stream",
     "text": [
      "shape: (1, 4)\n",
      "┌───────────────────────────────────────┬───────────────┬─────────────────┬────────────┐\n",
      "│ deck_url                              ┆ actual_deck   ┆ predicted_deck  ┆ confidence │\n",
      "│ ---                                   ┆ ---           ┆ ---             ┆ ---        │\n",
      "│ str                                   ┆ str           ┆ str             ┆ f32        │\n",
      "╞═══════════════════════════════════════╪═══════════════╪═════════════════╪════════════╡\n",
      "│ https://formatlibrary.com/decks/20003 ┆ Chaos Warrior ┆ Chaos Recruiter ┆ 0.826813   │\n",
      "└───────────────────────────────────────┴───────────────┴─────────────────┴────────────┘\n"
     ]
    }
   ],
   "source": [
    "with pl.Config(fmt_str_lengths=100):\n",
    "    print(\n",
    "        failed_predictions\n",
    "        .sort(\"confidence\")\n",
    "        [2]\n",
    "    )"
   ]
  },
  {
   "cell_type": "markdown",
   "metadata": {},
   "source": [
    "Actual deck:\n",
    "\n",
    "![image](./images/example7-1.png)"
   ]
  },
  {
   "cell_type": "markdown",
   "metadata": {},
   "source": [
    "The obvious thing to look for here, is if there's any actual Chaos Recruiter decks that doesn't have Shining Angel."
   ]
  },
  {
   "cell_type": "code",
   "execution_count": 121,
   "metadata": {},
   "outputs": [
    {
     "name": "stdout",
     "output_type": "stream",
     "text": [
      "shape: (1, 2)\n",
      "┌───────────────────────────────────────┬─────────────────┐\n",
      "│ deck_url                              ┆ actual_deck     │\n",
      "│ ---                                   ┆ ---             │\n",
      "│ str                                   ┆ str             │\n",
      "╞═══════════════════════════════════════╪═════════════════╡\n",
      "│ https://formatlibrary.com/decks/20415 ┆ Chaos Recruiter │\n",
      "└───────────────────────────────────────┴─────────────────┘\n"
     ]
    }
   ],
   "source": [
    "with pl.Config(fmt_str_lengths=100):\n",
    "    print(\n",
    "        prepared_cards_tbl\n",
    "        .filter(pl.col(\"actual_deck\") == \"Chaos Recruiter\")\n",
    "        .filter(~pl.col(\"cards\").str.contains(\"Angel\"))\n",
    "        .select(pl.exclude(\"cards\"))\n",
    "    )"
   ]
  },
  {
   "cell_type": "markdown",
   "metadata": {},
   "source": [
    "An actual Chaos Recruiter deck, that is the exact same as the \"Chaos Warrior\" deck:\n",
    "\n",
    "![image](./images/example7-2.png)"
   ]
  },
  {
   "cell_type": "markdown",
   "metadata": {},
   "source": [
    "### Example 8"
   ]
  },
  {
   "cell_type": "code",
   "execution_count": 122,
   "metadata": {},
   "outputs": [
    {
     "name": "stdout",
     "output_type": "stream",
     "text": [
      "shape: (1, 4)\n",
      "┌───────────────────────────────────────┬──────────────┬────────────────┬────────────┐\n",
      "│ deck_url                              ┆ actual_deck  ┆ predicted_deck ┆ confidence │\n",
      "│ ---                                   ┆ ---          ┆ ---            ┆ ---        │\n",
      "│ str                                   ┆ str          ┆ str            ┆ f32        │\n",
      "╞═══════════════════════════════════════╪══════════════╪════════════════╪════════════╡\n",
      "│ https://formatlibrary.com/decks/29228 ┆ Relinquished ┆ Chaos Turbo    ┆ 0.850724   │\n",
      "└───────────────────────────────────────┴──────────────┴────────────────┴────────────┘\n"
     ]
    }
   ],
   "source": [
    "with pl.Config(fmt_str_lengths=100):\n",
    "    print(\n",
    "        failed_predictions\n",
    "        .sort(\"confidence\")\n",
    "        [3]\n",
    "    )"
   ]
  },
  {
   "cell_type": "markdown",
   "metadata": {},
   "source": [
    "Actual deck:\n",
    "\n",
    "![image](./images/example8-1.png)"
   ]
  },
  {
   "cell_type": "markdown",
   "metadata": {},
   "source": [
    "An actual Chaos Turbo deck with Relinquished:\n",
    "\n",
    "![image](./images/example8-2.png)"
   ]
  },
  {
   "cell_type": "code",
   "execution_count": null,
   "metadata": {},
   "outputs": [
    {
     "name": "stdout",
     "output_type": "stream",
     "text": [
      "shape: (2, 2)\n",
      "┌───────────────────────────────────────┬─────────────┐\n",
      "│ deck_url                              ┆ actual_deck │\n",
      "│ ---                                   ┆ ---         │\n",
      "│ str                                   ┆ str         │\n",
      "╞═══════════════════════════════════════╪═════════════╡\n",
      "│ https://formatlibrary.com/decks/26672 ┆ Chaos Turbo │\n",
      "│ https://formatlibrary.com/decks/32343 ┆ Chaos Turbo │\n",
      "└───────────────────────────────────────┴─────────────┘\n"
     ]
    }
   ],
   "source": [
    "with pl.Config(fmt_str_lengths=100):\n",
    "    print(\n",
    "        prepared_cards_tbl\n",
    "        .filter(pl.col(\"actual_deck\") == \"Chaos Turbo\")\n",
    "        .filter(~pl.col(\"cards\").str.contains(\"Relinquished\"))\n",
    "        .select(pl.exclude(\"cards\"))\n",
    "    )"
   ]
  },
  {
   "cell_type": "markdown",
   "metadata": {},
   "source": [
    "### Example 9"
   ]
  },
  {
   "cell_type": "code",
   "execution_count": 125,
   "metadata": {},
   "outputs": [
    {
     "name": "stdout",
     "output_type": "stream",
     "text": [
      "shape: (1, 4)\n",
      "┌───────────────────────────────────────┬──────────────┬────────────────┬────────────┐\n",
      "│ deck_url                              ┆ actual_deck  ┆ predicted_deck ┆ confidence │\n",
      "│ ---                                   ┆ ---          ┆ ---            ┆ ---        │\n",
      "│ str                                   ┆ str          ┆ str            ┆ f32        │\n",
      "╞═══════════════════════════════════════╪══════════════╪════════════════╪════════════╡\n",
      "│ https://formatlibrary.com/decks/20378 ┆ Goat Control ┆ Flip Control   ┆ 0.851541   │\n",
      "└───────────────────────────────────────┴──────────────┴────────────────┴────────────┘\n"
     ]
    }
   ],
   "source": [
    "with pl.Config(fmt_str_lengths=100):\n",
    "    print(\n",
    "        failed_predictions\n",
    "        .sort(\"confidence\")\n",
    "        [4]\n",
    "    )"
   ]
  },
  {
   "cell_type": "markdown",
   "metadata": {},
   "source": [
    "This is an actual flip flop deck. No Scapegoat or Metamorphasis to be labeled as Control:\n",
    "\n",
    "![image](./images/example9-1.png)"
   ]
  },
  {
   "cell_type": "markdown",
   "metadata": {},
   "source": [
    "This is actually the only Goat Control deck without Scapegoat or Metamorphasis"
   ]
  },
  {
   "cell_type": "code",
   "execution_count": 128,
   "metadata": {},
   "outputs": [
    {
     "name": "stdout",
     "output_type": "stream",
     "text": [
      "shape: (1, 2)\n",
      "┌───────────────────────────────────────┬──────────────┐\n",
      "│ deck_url                              ┆ actual_deck  │\n",
      "│ ---                                   ┆ ---          │\n",
      "│ str                                   ┆ str          │\n",
      "╞═══════════════════════════════════════╪══════════════╡\n",
      "│ https://formatlibrary.com/decks/20378 ┆ Goat Control │\n",
      "└───────────────────────────────────────┴──────────────┘\n"
     ]
    }
   ],
   "source": [
    "with pl.Config(fmt_str_lengths=100):\n",
    "    print(\n",
    "        prepared_cards_tbl\n",
    "        .filter(pl.col(\"actual_deck\") == \"Goat Control\")\n",
    "        .filter(~pl.col(\"cards\").str.contains_any([\"Scapegoat\", \"Metamorphasis\"]))\n",
    "        .select(pl.exclude(\"cards\"))\n",
    "    )"
   ]
  },
  {
   "cell_type": "markdown",
   "metadata": {},
   "source": [
    "## Conclusion\n",
    "\n",
    "We have went over basically 10/19 incorrectly labeled decks from thousands of decks. \n",
    "\n",
    "We only went over predictions on full decks becausce we would see the same effect being responsible for partial data's inaccuracies. Coupled with the fact that only seeing 8/40 cards of a main deck can possibly be many decks. Common examples:\n",
    "\n",
    "- Chaos Turbo with Flip Control, Chaos Return, and Chaos Control\n",
    " \n",
    "- Warriors with Flip Warriors and Chaos Warriors\n",
    "\n",
    "- Goat Control with Chaos Control\n",
    "\n",
    "- Panda Burn with Cat OTK\n",
    "\n",
    "Models are as good as it's training data. Almost all incorrect predictions are explained away with mislabels in the data or low sample size. In some cases, the model corrects mislabels."
   ]
  }
 ],
 "metadata": {
  "kernelspec": {
   "display_name": ".venv",
   "language": "python",
   "name": "python3"
  },
  "language_info": {
   "codemirror_mode": {
    "name": "ipython",
    "version": 3
   },
   "file_extension": ".py",
   "mimetype": "text/x-python",
   "name": "python",
   "nbconvert_exporter": "python",
   "pygments_lexer": "ipython3",
   "version": "3.12.4"
  }
 },
 "nbformat": 4,
 "nbformat_minor": 2
}
